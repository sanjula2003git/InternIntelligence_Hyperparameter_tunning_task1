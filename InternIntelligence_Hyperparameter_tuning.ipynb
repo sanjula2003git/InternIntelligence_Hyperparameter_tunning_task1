{
  "nbformat": 4,
  "nbformat_minor": 0,
  "metadata": {
    "colab": {
      "provenance": []
    },
    "kernelspec": {
      "name": "python3",
      "display_name": "Python 3"
    },
    "language_info": {
      "name": "python"
    }
  },
  "cells": [
    {
      "cell_type": "code",
      "execution_count": 1,
      "metadata": {
        "colab": {
          "base_uri": "https://localhost:8080/"
        },
        "id": "IcjFv9nmmTT9",
        "outputId": "f051ea70-8c02-4c8b-8a06-a7515f7c1b33"
      },
      "outputs": [
        {
          "output_type": "stream",
          "name": "stdout",
          "text": [
            "Collecting optuna\n",
            "  Downloading optuna-4.2.1-py3-none-any.whl.metadata (17 kB)\n",
            "Collecting alembic>=1.5.0 (from optuna)\n",
            "  Downloading alembic-1.15.1-py3-none-any.whl.metadata (7.2 kB)\n",
            "Collecting colorlog (from optuna)\n",
            "  Downloading colorlog-6.9.0-py3-none-any.whl.metadata (10 kB)\n",
            "Requirement already satisfied: numpy in /usr/local/lib/python3.11/dist-packages (from optuna) (2.0.2)\n",
            "Requirement already satisfied: packaging>=20.0 in /usr/local/lib/python3.11/dist-packages (from optuna) (24.2)\n",
            "Requirement already satisfied: sqlalchemy>=1.4.2 in /usr/local/lib/python3.11/dist-packages (from optuna) (2.0.39)\n",
            "Requirement already satisfied: tqdm in /usr/local/lib/python3.11/dist-packages (from optuna) (4.67.1)\n",
            "Requirement already satisfied: PyYAML in /usr/local/lib/python3.11/dist-packages (from optuna) (6.0.2)\n",
            "Requirement already satisfied: Mako in /usr/lib/python3/dist-packages (from alembic>=1.5.0->optuna) (1.1.3)\n",
            "Requirement already satisfied: typing-extensions>=4.12 in /usr/local/lib/python3.11/dist-packages (from alembic>=1.5.0->optuna) (4.12.2)\n",
            "Requirement already satisfied: greenlet!=0.4.17 in /usr/local/lib/python3.11/dist-packages (from sqlalchemy>=1.4.2->optuna) (3.1.1)\n",
            "Downloading optuna-4.2.1-py3-none-any.whl (383 kB)\n",
            "\u001b[2K   \u001b[90m━━━━━━━━━━━━━━━━━━━━━━━━━━━━━━━━━━━━━━━━\u001b[0m \u001b[32m383.6/383.6 kB\u001b[0m \u001b[31m6.5 MB/s\u001b[0m eta \u001b[36m0:00:00\u001b[0m\n",
            "\u001b[?25hDownloading alembic-1.15.1-py3-none-any.whl (231 kB)\n",
            "\u001b[2K   \u001b[90m━━━━━━━━━━━━━━━━━━━━━━━━━━━━━━━━━━━━━━━━\u001b[0m \u001b[32m231.8/231.8 kB\u001b[0m \u001b[31m9.1 MB/s\u001b[0m eta \u001b[36m0:00:00\u001b[0m\n",
            "\u001b[?25hDownloading colorlog-6.9.0-py3-none-any.whl (11 kB)\n",
            "Installing collected packages: colorlog, alembic, optuna\n",
            "Successfully installed alembic-1.15.1 colorlog-6.9.0 optuna-4.2.1\n"
          ]
        }
      ],
      "source": [
        "!pip install optuna"
      ]
    },
    {
      "cell_type": "code",
      "source": [
        "import optuna\n",
        "import numpy as np\n",
        "import pandas as pd\n",
        "from sklearn.ensemble import RandomForestClassifier\n",
        "from sklearn.model_selection import cross_val_score,train_test_split\n",
        "from sklearn.datasets import load_iris\n",
        "from sklearn.metrics import accuracy_score"
      ],
      "metadata": {
        "id": "w54JVEz5mg8y"
      },
      "execution_count": 2,
      "outputs": []
    },
    {
      "cell_type": "code",
      "source": [
        "data = load_iris()\n",
        "x = pd.DataFrame(data.data , columns=data.feature_names)\n",
        "y = data.target"
      ],
      "metadata": {
        "id": "ZB3eCRnZmnc4"
      },
      "execution_count": 3,
      "outputs": []
    },
    {
      "cell_type": "code",
      "source": [
        "def objective(trial):\n",
        "    n_estimators = trial.suggest_int(\"n_estimators\",50,300,step=50)\n",
        "    max_depth=trial.suggest_int(\"max_depth\",3,20)\n",
        "    min_samples_split = trial.suggest_int(\"min_samples_split\",2,10)\n",
        "    max_features = trial.suggest_categorical(\"max_features\",['sqrt','log2',None])\n",
        "    model = RandomForestClassifier(\n",
        "    n_estimators = n_estimators,\n",
        "    max_depth = max_depth,\n",
        "    min_samples_split = min_samples_split,\n",
        "    max_features = max_features,\n",
        "    random_state = 42,\n",
        ")\n",
        "    score = cross_val_score(model,x,y,cv=5,scoring=\"accuracy\").mean()\n",
        "    return score"
      ],
      "metadata": {
        "id": "YLvQqut8mtfA"
      },
      "execution_count": 5,
      "outputs": []
    },
    {
      "cell_type": "code",
      "source": [
        "study=optuna.create_study(direction=\"maximize\")\n",
        "study.optimize(objective,n_trials=30)"
      ],
      "metadata": {
        "colab": {
          "base_uri": "https://localhost:8080/"
        },
        "id": "ZmRstvHdmxxX",
        "outputId": "67749e00-8d16-402b-92f5-6a2ea3f61d34"
      },
      "execution_count": 6,
      "outputs": [
        {
          "output_type": "stream",
          "name": "stderr",
          "text": [
            "[I 2025-03-28 11:55:35,671] A new study created in memory with name: no-name-228ea7c1-bebc-47d2-a5b2-78be9d6ffa44\n",
            "[I 2025-03-28 11:55:37,067] Trial 0 finished with value: 0.9666666666666668 and parameters: {'n_estimators': 150, 'max_depth': 8, 'min_samples_split': 10, 'max_features': 'sqrt'}. Best is trial 0 with value: 0.9666666666666668.\n",
            "[I 2025-03-28 11:55:37,760] Trial 1 finished with value: 0.9666666666666668 and parameters: {'n_estimators': 50, 'max_depth': 5, 'min_samples_split': 7, 'max_features': 'sqrt'}. Best is trial 0 with value: 0.9666666666666668.\n",
            "[I 2025-03-28 11:55:40,521] Trial 2 finished with value: 0.96 and parameters: {'n_estimators': 250, 'max_depth': 20, 'min_samples_split': 9, 'max_features': 'sqrt'}. Best is trial 0 with value: 0.9666666666666668.\n",
            "[I 2025-03-28 11:55:42,098] Trial 3 finished with value: 0.9666666666666668 and parameters: {'n_estimators': 200, 'max_depth': 9, 'min_samples_split': 3, 'max_features': 'log2'}. Best is trial 0 with value: 0.9666666666666668.\n",
            "[I 2025-03-28 11:55:42,941] Trial 4 finished with value: 0.9666666666666668 and parameters: {'n_estimators': 100, 'max_depth': 18, 'min_samples_split': 8, 'max_features': None}. Best is trial 0 with value: 0.9666666666666668.\n",
            "[I 2025-03-28 11:55:43,375] Trial 5 finished with value: 0.9666666666666668 and parameters: {'n_estimators': 50, 'max_depth': 5, 'min_samples_split': 5, 'max_features': 'sqrt'}. Best is trial 0 with value: 0.9666666666666668.\n",
            "[I 2025-03-28 11:55:44,194] Trial 6 finished with value: 0.9666666666666668 and parameters: {'n_estimators': 100, 'max_depth': 15, 'min_samples_split': 7, 'max_features': None}. Best is trial 0 with value: 0.9666666666666668.\n",
            "[I 2025-03-28 11:55:44,635] Trial 7 finished with value: 0.9666666666666668 and parameters: {'n_estimators': 50, 'max_depth': 6, 'min_samples_split': 3, 'max_features': 'log2'}. Best is trial 0 with value: 0.9666666666666668.\n",
            "[I 2025-03-28 11:55:45,054] Trial 8 finished with value: 0.9666666666666668 and parameters: {'n_estimators': 50, 'max_depth': 13, 'min_samples_split': 6, 'max_features': 'sqrt'}. Best is trial 0 with value: 0.9666666666666668.\n",
            "[I 2025-03-28 11:55:45,485] Trial 9 finished with value: 0.9666666666666668 and parameters: {'n_estimators': 50, 'max_depth': 19, 'min_samples_split': 5, 'max_features': 'log2'}. Best is trial 0 with value: 0.9666666666666668.\n",
            "[I 2025-03-28 11:55:47,908] Trial 10 finished with value: 0.96 and parameters: {'n_estimators': 300, 'max_depth': 9, 'min_samples_split': 10, 'max_features': 'sqrt'}. Best is trial 0 with value: 0.9666666666666668.\n",
            "[I 2025-03-28 11:55:49,116] Trial 11 finished with value: 0.9666666666666668 and parameters: {'n_estimators': 150, 'max_depth': 3, 'min_samples_split': 10, 'max_features': 'sqrt'}. Best is trial 0 with value: 0.9666666666666668.\n",
            "[I 2025-03-28 11:55:50,776] Trial 12 finished with value: 0.9666666666666668 and parameters: {'n_estimators': 150, 'max_depth': 8, 'min_samples_split': 8, 'max_features': 'sqrt'}. Best is trial 0 with value: 0.9666666666666668.\n",
            "[I 2025-03-28 11:55:53,023] Trial 13 finished with value: 0.9533333333333334 and parameters: {'n_estimators': 200, 'max_depth': 3, 'min_samples_split': 8, 'max_features': 'sqrt'}. Best is trial 0 with value: 0.9666666666666668.\n",
            "[I 2025-03-28 11:55:53,862] Trial 14 finished with value: 0.9666666666666668 and parameters: {'n_estimators': 100, 'max_depth': 11, 'min_samples_split': 6, 'max_features': None}. Best is trial 0 with value: 0.9666666666666668.\n",
            "[I 2025-03-28 11:55:55,855] Trial 15 finished with value: 0.9666666666666668 and parameters: {'n_estimators': 250, 'max_depth': 7, 'min_samples_split': 2, 'max_features': 'sqrt'}. Best is trial 0 with value: 0.9666666666666668.\n",
            "[I 2025-03-28 11:55:57,065] Trial 16 finished with value: 0.9666666666666668 and parameters: {'n_estimators': 150, 'max_depth': 11, 'min_samples_split': 9, 'max_features': 'sqrt'}. Best is trial 0 with value: 0.9666666666666668.\n",
            "[I 2025-03-28 11:55:57,919] Trial 17 finished with value: 0.9666666666666668 and parameters: {'n_estimators': 100, 'max_depth': 5, 'min_samples_split': 7, 'max_features': 'sqrt'}. Best is trial 0 with value: 0.9666666666666668.\n",
            "[I 2025-03-28 11:55:59,528] Trial 18 finished with value: 0.9666666666666668 and parameters: {'n_estimators': 200, 'max_depth': 14, 'min_samples_split': 5, 'max_features': None}. Best is trial 0 with value: 0.9666666666666668.\n",
            "[I 2025-03-28 11:56:01,910] Trial 19 finished with value: 0.96 and parameters: {'n_estimators': 300, 'max_depth': 10, 'min_samples_split': 9, 'max_features': 'log2'}. Best is trial 0 with value: 0.9666666666666668.\n",
            "[I 2025-03-28 11:56:05,912] Trial 20 finished with value: 0.96 and parameters: {'n_estimators': 250, 'max_depth': 5, 'min_samples_split': 10, 'max_features': 'sqrt'}. Best is trial 0 with value: 0.9666666666666668.\n",
            "[I 2025-03-28 11:56:07,533] Trial 21 finished with value: 0.9666666666666668 and parameters: {'n_estimators': 200, 'max_depth': 8, 'min_samples_split': 3, 'max_features': 'log2'}. Best is trial 0 with value: 0.9666666666666668.\n",
            "[I 2025-03-28 11:56:09,026] Trial 22 finished with value: 0.9666666666666668 and parameters: {'n_estimators': 150, 'max_depth': 9, 'min_samples_split': 4, 'max_features': 'log2'}. Best is trial 0 with value: 0.9666666666666668.\n",
            "[I 2025-03-28 11:56:10,655] Trial 23 finished with value: 0.9666666666666668 and parameters: {'n_estimators': 200, 'max_depth': 7, 'min_samples_split': 2, 'max_features': 'log2'}. Best is trial 0 with value: 0.9666666666666668.\n",
            "[I 2025-03-28 11:56:12,644] Trial 24 finished with value: 0.96 and parameters: {'n_estimators': 250, 'max_depth': 12, 'min_samples_split': 7, 'max_features': 'log2'}. Best is trial 0 with value: 0.9666666666666668.\n",
            "[I 2025-03-28 11:56:13,452] Trial 25 finished with value: 0.9666666666666668 and parameters: {'n_estimators': 100, 'max_depth': 4, 'min_samples_split': 4, 'max_features': 'log2'}. Best is trial 0 with value: 0.9666666666666668.\n",
            "[I 2025-03-28 11:56:14,673] Trial 26 finished with value: 0.9666666666666668 and parameters: {'n_estimators': 150, 'max_depth': 7, 'min_samples_split': 4, 'max_features': 'sqrt'}. Best is trial 0 with value: 0.9666666666666668.\n",
            "[I 2025-03-28 11:56:16,895] Trial 27 finished with value: 0.9666666666666668 and parameters: {'n_estimators': 200, 'max_depth': 16, 'min_samples_split': 3, 'max_features': 'sqrt'}. Best is trial 0 with value: 0.9666666666666668.\n",
            "[I 2025-03-28 11:56:18,539] Trial 28 finished with value: 0.9666666666666668 and parameters: {'n_estimators': 150, 'max_depth': 9, 'min_samples_split': 6, 'max_features': None}. Best is trial 0 with value: 0.9666666666666668.\n",
            "[I 2025-03-28 11:56:20,536] Trial 29 finished with value: 0.96 and parameters: {'n_estimators': 250, 'max_depth': 6, 'min_samples_split': 9, 'max_features': 'log2'}. Best is trial 0 with value: 0.9666666666666668.\n"
          ]
        }
      ]
    },
    {
      "cell_type": "code",
      "source": [
        "print(\"Best hyperparameters:\",study.best_params)\n",
        "print(\"Best accuracy:\",study.best_value)"
      ],
      "metadata": {
        "colab": {
          "base_uri": "https://localhost:8080/"
        },
        "id": "WhqrIVcmm_K0",
        "outputId": "ecd7a036-c0c9-4097-ae13-31f1fd28007f"
      },
      "execution_count": 7,
      "outputs": [
        {
          "output_type": "stream",
          "name": "stdout",
          "text": [
            "Best hyperparameters: {'n_estimators': 150, 'max_depth': 8, 'min_samples_split': 10, 'max_features': 'sqrt'}\n",
            "Best accuracy: 0.9666666666666668\n"
          ]
        }
      ]
    },
    {
      "cell_type": "code",
      "source": [
        "x_train,x_test,y_train,y_test = train_test_split(x,y,test_size=0.2,random_state=42)\n",
        "best_params = study.best_params\n",
        "best_model = RandomForestClassifier(**best_params,random_state=42)\n",
        "best_model.fit(x_train,y_train)\n",
        "y_pred=best_model.predict(x_test)\n",
        "accuracy = accuracy_score(y_test,y_pred)\n",
        "print(f\"Test accuracy: {accuracy: .4f}\")"
      ],
      "metadata": {
        "colab": {
          "base_uri": "https://localhost:8080/"
        },
        "id": "5K5tkLq8nG5E",
        "outputId": "bed1f745-1201-42e8-e01e-b1f5662108ae"
      },
      "execution_count": 8,
      "outputs": [
        {
          "output_type": "stream",
          "name": "stdout",
          "text": [
            "Test accuracy:  1.0000\n"
          ]
        }
      ]
    }
  ]
}